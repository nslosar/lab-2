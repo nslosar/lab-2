{
 "cells": [
  {
   "cell_type": "markdown",
   "id": "ed35ba87",
   "metadata": {},
   "source": [
    "Contents covered:\n",
    "- Python basics\n",
    "- Plotting\n",
    "- Reading FASTA files"
   ]
  },
  {
   "cell_type": "markdown",
   "id": "cd3b8de4",
   "metadata": {},
   "source": [
    "# Python Basics"
   ]
  },
  {
   "cell_type": "markdown",
   "id": "c17ebac4",
   "metadata": {},
   "source": [
    "## 0. Before we get started...\n",
    "A big part of becoming a good programmer is knowing when and how to look up documentation and help\n",
    "on commands and expressions you may not have used before - so when you're unsure about something,\n",
    "Google to see if you can find some help online or better yet, just try it! For example:\n",
    "- What is the difference between an int and a float?\n",
    "- What is the difference between = and == (that's one equals sign and a double-equals sign)?\n",
    "- How would you go about reversing a string?\n",
    "\n",
    "Many questions you can think of can best be answered with: \"Try it and find out!\" That is not to say you\n",
    "shouldn't ask questions - by all means, do! - but if it's something you might be able to learn the answer to\n",
    "by trying it, give it a go!\n",
    "\n",
    "If you don't have a Python book, look up some websites with command references and bookmark them. You can refer to these when you're unsure of the syntax of a command or you forgot exactly how to write a for loop or something. Here are a few:\n",
    "- [Official Python Documentation](https://docs.python.org/)\n",
    "- [Codeacademy course](https://www.codecademy.com/learn/learn-python-3)"
   ]
  },
  {
   "cell_type": "markdown",
   "id": "cac9d4b5",
   "metadata": {},
   "source": [
    "## 1. Some quick basics\n",
    "Before we get started writing a full program, we'll go over a few quick basics to make sure we're on the\n",
    "same page. We'll cover these technical topics at a pretty bare-bones level, and you'll need to seek out\n",
    "additional resources and practice to make sure you have a good handle on them.\n",
    "\n",
    "\n",
    "We strongly recommend going through the first three tracks of the interactive Codecademy course on\n",
    "Python (Python Syntax, Strings & Console Output, and Conditionals & Control Flow), especially if\n",
    "you have little prior programming experience. You will learn many basic concepts of programming,\n",
    "how they are implemented in Python, and you will get to do it as you learn it."
   ]
  },
  {
   "cell_type": "markdown",
   "id": "9b6bd28b",
   "metadata": {},
   "source": [
    "### Running commands"
   ]
  },
  {
   "cell_type": "code",
   "execution_count": null,
   "id": "6f36e6d7",
   "metadata": {},
   "outputs": [],
   "source": [
    "4+4"
   ]
  },
  {
   "cell_type": "code",
   "execution_count": null,
   "id": "4bd57b2f",
   "metadata": {},
   "outputs": [],
   "source": [
    "# a double asterisk is the command to raise a number to an exponent\n",
    "7**2"
   ]
  },
  {
   "cell_type": "code",
   "execution_count": null,
   "id": "0cc53c6a",
   "metadata": {},
   "outputs": [],
   "source": [
    "total = 3\n",
    "total"
   ]
  },
  {
   "cell_type": "code",
   "execution_count": null,
   "id": "0eb0c0c4",
   "metadata": {},
   "outputs": [],
   "source": [
    "total = total + 4\n",
    "total"
   ]
  },
  {
   "cell_type": "code",
   "execution_count": null,
   "id": "a20f7ad8",
   "metadata": {},
   "outputs": [],
   "source": [
    "total += 2\n",
    "total"
   ]
  },
  {
   "cell_type": "code",
   "execution_count": null,
   "id": "fec723d8",
   "metadata": {},
   "outputs": [],
   "source": [
    "total -= 5\n",
    "total"
   ]
  },
  {
   "cell_type": "markdown",
   "id": "75b0f2b3",
   "metadata": {},
   "source": [
    "### Strings and methods\n",
    "You'll be working a lot with **strings**. As discussed in class, strings are a class of object that are\n",
    "processed in a particular way. Very roughly, strings are sequences of text characters.\n",
    "\n",
    "Classes can also contain methods, or functions associated with objects of that class, and strings contain\n",
    "many methods that will be very useful. Here's one example, and you should look for references on all\n",
    "of the wonderful methods available for strings. We'll look at the **upper** method, which converts a string to upper case. None of\n",
    "these methods will actually change the stored string. To change the stored string, you have to reassign\n",
    "it, as below."
   ]
  },
  {
   "cell_type": "code",
   "execution_count": null,
   "id": "e15b9bb5",
   "metadata": {},
   "outputs": [],
   "source": [
    "name = \"Herman\"\n",
    "name"
   ]
  },
  {
   "cell_type": "code",
   "execution_count": null,
   "id": "c0dba2b3",
   "metadata": {},
   "outputs": [],
   "source": [
    "name.upper()"
   ]
  },
  {
   "cell_type": "code",
   "execution_count": null,
   "id": "b4b6308b",
   "metadata": {},
   "outputs": [],
   "source": [
    "name"
   ]
  },
  {
   "cell_type": "code",
   "execution_count": null,
   "id": "c9176706",
   "metadata": {},
   "outputs": [],
   "source": [
    "name = name.upper()\n",
    "name"
   ]
  },
  {
   "cell_type": "markdown",
   "id": "19f007c9",
   "metadata": {},
   "source": [
    "### Lists\n",
    "Another useful type of object is the **list**. We will discuss lists in greater depth later, but this is a brief\n",
    "introduction/review.\n",
    "\n",
    "A list is an ordered set of objects that are stored together. Lists can contain anything - strings,\n",
    "integers, whatever. Two examples of lists:"
   ]
  },
  {
   "cell_type": "code",
   "execution_count": null,
   "id": "889d8480",
   "metadata": {},
   "outputs": [],
   "source": [
    "[\"Groucho\",\"Harpo\",\"Chico\",\"Gummo\",\"Zeppo\"]"
   ]
  },
  {
   "cell_type": "code",
   "execution_count": null,
   "id": "83fbaabf",
   "metadata": {},
   "outputs": [],
   "source": [
    "[1,1,2,3,5,8,11]"
   ]
  },
  {
   "cell_type": "markdown",
   "id": "dae46a0b",
   "metadata": {},
   "source": [
    "Note that:\n",
    "- Lists exist in square brackets\n",
    "- Entries are separated by commas\n",
    "- You can have repeated items\n",
    "\n",
    "Lists can be indexed into by position. Python indices beginning with 0, not 1. Thus, if you saved the second\n",
    "list above as a variable called `fib`:"
   ]
  },
  {
   "cell_type": "code",
   "execution_count": null,
   "id": "aa23043c",
   "metadata": {},
   "outputs": [],
   "source": [
    "fib = [1,1,2,3,5,8,11]\n",
    "fib"
   ]
  },
  {
   "cell_type": "code",
   "execution_count": null,
   "id": "007821fb",
   "metadata": {},
   "outputs": [],
   "source": [
    "fib[0]"
   ]
  },
  {
   "cell_type": "code",
   "execution_count": null,
   "id": "084b1088",
   "metadata": {},
   "outputs": [],
   "source": [
    "fib[1]"
   ]
  },
  {
   "cell_type": "code",
   "execution_count": null,
   "id": "b9277e6a",
   "metadata": {},
   "outputs": [],
   "source": [
    "fib[4]"
   ]
  },
  {
   "cell_type": "code",
   "execution_count": null,
   "id": "5f9e8374",
   "metadata": {},
   "outputs": [],
   "source": [
    "fib[2:4]"
   ]
  },
  {
   "cell_type": "code",
   "execution_count": null,
   "id": "6ef6fcba",
   "metadata": {},
   "outputs": [],
   "source": [
    "5 in fib"
   ]
  },
  {
   "cell_type": "code",
   "execution_count": null,
   "id": "bb348ec5",
   "metadata": {},
   "outputs": [],
   "source": [
    "6 in fib"
   ]
  },
  {
   "cell_type": "markdown",
   "id": "c58e4819",
   "metadata": {},
   "source": [
    "### Dictionaries\n",
    "Now that we've played around with lists, let's move on to dictionaries. As mentioned before,\n",
    "dictionaries are pretty similar to lists, except that instead of using integers to access them, you use\n",
    "\"keys.\" Every entry in a dictionary consists of a \"key\" and a \"value\" - think of a real-life dictionary\n",
    "with the \"keys\" being words and the \"values\" being their definitions."
   ]
  },
  {
   "cell_type": "code",
   "execution_count": null,
   "id": "5e813988",
   "metadata": {},
   "outputs": [],
   "source": [
    "comp = {'Cyp12a5':'Mitochondrion',\n",
    "        'MRG15':'Nucleus',\n",
    "        'Cop':'Golgi',\n",
    "        'bor':'Cytoplasm',\n",
    "        'Bx42':'Nucleus'}\n",
    "comp"
   ]
  },
  {
   "cell_type": "code",
   "execution_count": null,
   "id": "c36e7fd5",
   "metadata": {},
   "outputs": [],
   "source": [
    "comp[\"bor\"]"
   ]
  },
  {
   "cell_type": "code",
   "execution_count": null,
   "id": "38acaeee",
   "metadata": {},
   "outputs": [],
   "source": [
    "comp.keys()"
   ]
  },
  {
   "cell_type": "code",
   "execution_count": null,
   "id": "4301e6cb",
   "metadata": {},
   "outputs": [],
   "source": [
    "comp.values()"
   ]
  },
  {
   "cell_type": "code",
   "execution_count": null,
   "id": "ecbcb02d",
   "metadata": {},
   "outputs": [],
   "source": [
    "for key, value in comp.items():\n",
    "    print(key, \"->\", value)"
   ]
  },
  {
   "cell_type": "markdown",
   "id": "f1a83641",
   "metadata": {},
   "source": [
    "### Control structures\n",
    "This will be an overview of the primary types of control structures. These are for your own review - so\n",
    "if you feel comfortable with these from class and/or other tutorials you've gone through, feel\n",
    "completely free to skim quickly past them!"
   ]
  },
  {
   "cell_type": "code",
   "execution_count": null,
   "id": "98086c13",
   "metadata": {},
   "outputs": [],
   "source": [
    "temp = 68\n",
    "\n",
    "if temp > 80:\n",
    "    print(\"Boy, it's hot!\")\n",
    "elif temp < 50:\n",
    "    print(\"Brrr...it's cold!\")\n",
    "else:\n",
    "    print(\"Nice and temperate!\")"
   ]
  },
  {
   "cell_type": "code",
   "execution_count": null,
   "id": "1365bfda",
   "metadata": {},
   "outputs": [],
   "source": [
    "for i in range(3):\n",
    "    print(\"Counted number\", i)"
   ]
  },
  {
   "cell_type": "code",
   "execution_count": null,
   "id": "615ab50e",
   "metadata": {},
   "outputs": [],
   "source": [
    "drink = \"water\"\n",
    "for i in range(3):\n",
    "    print(\"Letter\", i+1, \"is\", drink[i])"
   ]
  },
  {
   "cell_type": "code",
   "execution_count": null,
   "id": "f7a7f8db",
   "metadata": {},
   "outputs": [],
   "source": [
    "cowTypes = [\"brown\",\"white\",\"mooing\",\"corn on the cob\"]\n",
    "for cow in cowTypes:\n",
    "    print(\"I see a\", cow, \"cow!\")"
   ]
  },
  {
   "cell_type": "code",
   "execution_count": null,
   "id": "1d2302fe",
   "metadata": {},
   "outputs": [],
   "source": [
    "professor = \"Ian Holmes\"\n",
    "for letter in professor:\n",
    "    print(\"Letter: \", letter)"
   ]
  },
  {
   "cell_type": "markdown",
   "id": "490759fc",
   "metadata": {},
   "source": [
    "Note that the indexing variable (e.g. above: `i`, `cow`, `letter`, etc.) can be whatever you want. So you\n",
    "could also technically have written `for i in professor` or `for turnip in professor` in\n",
    "the final example and used `i` or `turnip` as your variable instead if you so felt like it. Stylistically, it is\n",
    "good practice to use `i`, `j`, `k`, etc. when indexing through numbers or positions (i.e., a range of some\n",
    "sort) and an obvious name when indexing by item rather than by index position."
   ]
  },
  {
   "cell_type": "code",
   "execution_count": null,
   "id": "fd01a9d8",
   "metadata": {},
   "outputs": [],
   "source": [
    "bonks = 0\n",
    "while bonks < 3:\n",
    "    print(\"Bonk times\",bonks,\"!\")\n",
    "    bonks += 1"
   ]
  },
  {
   "cell_type": "markdown",
   "id": "62726b7a",
   "metadata": {},
   "source": [
    "### Modules\n",
    "While Python has decent native functionality, much of Python's power comes from external \"modules.\"\n",
    "Modules are simply Python scripts containing functions; these can be collectively imported into your\n",
    "Python program so that you can use those functions in your program. Python comes with many\n",
    "modules built-in and natively available for import; other modules can be downloaded separately and\n",
    "loaded in.\n",
    "\n",
    "A basic example of a built-in module is the `math` module. Python's built-in math capabilities are fairly\n",
    "basic; should you want to, for instance, take the logarithm of a number or the sine of a number, you will\n",
    "need the `math` module. Fortunately, this is rather simple (as noted by the floating guy in the comic\n",
    "above); all you need to do is import the module and begin using the function that you want from that\n",
    "module. Let's try a quick example.\n",
    "\n",
    "Suppose you wanted to take the base-10 logarithm of a number."
   ]
  },
  {
   "cell_type": "code",
   "execution_count": null,
   "id": "b0fd81f1",
   "metadata": {},
   "outputs": [],
   "source": [
    "# you will get an error as Python does not have this function\n",
    "try:\n",
    "    log10(100)\n",
    "except NameError as e:\n",
    "    print(\"See! An Error\")\n",
    "    print(e)"
   ]
  },
  {
   "cell_type": "code",
   "execution_count": null,
   "id": "550ca692",
   "metadata": {},
   "outputs": [],
   "source": [
    "# However - let's import the mathmodule!\n",
    "# You will get no feedback, but it has been imported.\n",
    "import math"
   ]
  },
  {
   "cell_type": "code",
   "execution_count": null,
   "id": "af77266a",
   "metadata": {},
   "outputs": [],
   "source": [
    "# I will tell you a secret: the function log10() is a\n",
    "# function included in the math module.\n",
    "# So now try taking the base-10 logarithm the same way:\n",
    "try:\n",
    "    log10(100)\n",
    "except NameError as e:\n",
    "    print(\"See! An Error\")\n",
    "    print(e)"
   ]
  },
  {
   "cell_type": "code",
   "execution_count": null,
   "id": "874ca023",
   "metadata": {},
   "outputs": [],
   "source": [
    "# Oops! Another error! How come?\n",
    "# When you use a function that comes from a module, you must call it\n",
    "# as a function of that module, as follows:\n",
    "math.log10(100)"
   ]
  },
  {
   "cell_type": "code",
   "execution_count": null,
   "id": "d69a0c29",
   "metadata": {},
   "outputs": [],
   "source": [
    "# How can you know what functions a module contains? Modules have documentation.\n",
    "help(math)"
   ]
  },
  {
   "cell_type": "markdown",
   "id": "ecda1c26",
   "metadata": {},
   "source": [
    "### Functions\n",
    "Some of you have figured out functions already. Good use of functions will be expected in future code\n",
    "you write - but don't worry, you'll want to use them because they're so useful!\n",
    "Functions are important to have a handle on. Fortunately, they're fundamentally not anything very new.\n",
    "A function is just a sort of sub-program, a set of commands that can be invoked by calling that\n",
    "function. Methods are an example of functions - each one has some underlying functinoality that you\n",
    "access by calling that name. Functions are used to reduce code duplication and increase the modularity\n",
    "of your program. A function can take inputs (though need not) and can be repeatedly invoked.\n",
    "Functions can be designed to return something upon being invoked. For instance, a function can\n",
    "manipulate numbers and return the result of the manipulation, or it can run a comparison and\n",
    "return True or False. Output can in fact happen without \"returning,\" though - a printstatement\n",
    "will still print to the screen. Let's look at an example.\n"
   ]
  },
  {
   "cell_type": "code",
   "execution_count": null,
   "id": "e9f2746d",
   "metadata": {},
   "outputs": [],
   "source": [
    "def square(num):\n",
    "    return num*num"
   ]
  },
  {
   "cell_type": "code",
   "execution_count": null,
   "id": "3408a892",
   "metadata": {},
   "outputs": [],
   "source": [
    "square(3)"
   ]
  },
  {
   "cell_type": "code",
   "execution_count": null,
   "id": "865758a2",
   "metadata": {},
   "outputs": [],
   "source": [
    "square(10)"
   ]
  },
  {
   "cell_type": "markdown",
   "id": "4c3a517a",
   "metadata": {},
   "source": [
    "# Plotting with pandas and seaborn"
   ]
  },
  {
   "cell_type": "code",
   "execution_count": null,
   "id": "540c3c71",
   "metadata": {},
   "outputs": [],
   "source": [
    "# When importing matplotlib, convention is to rename it “plt” as in:\n",
    "import matplotlib.pyplot as plt\n",
    "\n",
    "# To get iPython to plot stuff in-line, this magic command needs to go somewhere:\n",
    "%matplotlib inline"
   ]
  },
  {
   "cell_type": "code",
   "execution_count": null,
   "id": "40f12d89",
   "metadata": {},
   "outputs": [],
   "source": [
    "import pandas as pd\n",
    "import seaborn as sns\n",
    "\n",
    "# loading an example dataset\n",
    "penguins = sns.load_dataset(\"penguins\")\n",
    "penguins"
   ]
  },
  {
   "cell_type": "code",
   "execution_count": null,
   "id": "64ec85d4",
   "metadata": {},
   "outputs": [],
   "source": [
    "# scatter plot\n",
    "sns.scatterplot(data=penguins, x=\"bill_length_mm\", y=\"flipper_length_mm\", hue=\"species\");"
   ]
  },
  {
   "cell_type": "code",
   "execution_count": null,
   "id": "4019b1c7",
   "metadata": {},
   "outputs": [],
   "source": [
    "# box plot\n",
    "sns.boxplot(data=penguins, x=\"species\", y=\"body_mass_g\");"
   ]
  },
  {
   "cell_type": "code",
   "execution_count": null,
   "id": "11ea0738",
   "metadata": {},
   "outputs": [],
   "source": [
    "# histogram\n",
    "sns.histplot(data=penguins, x=\"flipper_length_mm\", hue=\"species\");"
   ]
  },
  {
   "cell_type": "code",
   "execution_count": null,
   "id": "2f8a951c",
   "metadata": {},
   "outputs": [],
   "source": [
    "# stacked bar plot\n",
    "penguins.groupby(\"island\").sex.value_counts(normalize=True).unstack().plot.bar(stacked=True);"
   ]
  },
  {
   "cell_type": "code",
   "execution_count": null,
   "id": "d1008863",
   "metadata": {},
   "outputs": [],
   "source": [
    "# another stacked bar plot\n",
    "penguins.groupby(\"species\").island.value_counts(normalize=True).unstack().plot.bar(stacked=True);"
   ]
  },
  {
   "cell_type": "code",
   "execution_count": null,
   "id": "190e378b",
   "metadata": {},
   "outputs": [],
   "source": [
    "# Creating a pandas DataFrame from regular lists\n",
    "data = [[1,2],[3,4],[5,6]]\n",
    "index = [\"index1\", \"index2\", \"index3\"]\n",
    "columns = [\"col1\", \"col2\"]\n",
    "df = pd.DataFrame(data=data, index=index, columns=columns)\n",
    "df"
   ]
  },
  {
   "cell_type": "markdown",
   "id": "a3e65dcf",
   "metadata": {},
   "source": [
    "# Reading FASTA files with BioPython\n",
    "FASTA is the most common format for nucleotide or aminoacid sequences.\n",
    "More information [here](https://en.wikipedia.org/wiki/FASTA_format)."
   ]
  },
  {
   "cell_type": "code",
   "execution_count": null,
   "id": "94f51f0e",
   "metadata": {},
   "outputs": [],
   "source": [
    "# Let's look at an example file\n",
    "# cat command prints the contents of the file\n",
    "!cat example.fa"
   ]
  },
  {
   "cell_type": "code",
   "execution_count": null,
   "id": "8943fef2",
   "metadata": {},
   "outputs": [],
   "source": [
    "# Installing BioPython\n",
    "!conda install -y -q -c conda-forge biopython"
   ]
  },
  {
   "cell_type": "code",
   "execution_count": null,
   "id": "7c66c920",
   "metadata": {},
   "outputs": [],
   "source": [
    "# Reading a fasta file in Python\n",
    "# reference: https://biopython.org/wiki/SeqIO\n",
    "\n",
    "from Bio import SeqIO\n",
    "\n",
    "for seq_rec in SeqIO.parse(\"example.fa\", \"fasta\"):\n",
    "    print(seq_rec.name)\n",
    "    print(seq_rec.seq)"
   ]
  }
 ],
 "metadata": {
  "kernelspec": {
   "display_name": "Python 3 (ipykernel)",
   "language": "python",
   "name": "python3"
  },
  "language_info": {
   "codemirror_mode": {
    "name": "ipython",
    "version": 3
   },
   "file_extension": ".py",
   "mimetype": "text/x-python",
   "name": "python",
   "nbconvert_exporter": "python",
   "pygments_lexer": "ipython3",
   "version": "3.9.6"
  }
 },
 "nbformat": 4,
 "nbformat_minor": 5
}
