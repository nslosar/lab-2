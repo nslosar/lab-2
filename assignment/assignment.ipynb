{
 "cells": [
  {
   "cell_type": "markdown",
   "metadata": {},
   "source": [
    "# Overview \n",
    "\n",
    "In this lab, you will use your Python skills to analyze the SARS-CoV-2 genome\n",
    "in various ways.\n",
    " \n",
    "We will be using the RefSeq genome sequence from NCBI\n",
    "(https://www.ncbi.nlm.nih.gov/nuccore/NC_045512). For the lab, you will\n",
    "use a few techniques (string manipulation, dictionaries, plotting) that are (as\n",
    "you will see throughout the course) very useful in biological sequence analysis.\n",
    "\n",
    "As with any coding questions, Google and Python documentation are your\n",
    "friend! Like always, make sure to clone your Github repo to Datahub, document all your steps and answer all questions using Markdown sections in your\n",
    "Jupyter notebook, and display all plots inline.\n",
    "\n",
    "## Submission checklist\n",
    "\n",
    "- Commit notebook on DataHub and push to GitHub\n",
    "- Make sure `lab-2-username` repository contains changes on GitHub (GSIs can see your private repos)"
   ]
  },
  {
   "cell_type": "markdown",
   "metadata": {},
   "source": [
    "# Read data"
   ]
  },
  {
   "cell_type": "markdown",
   "metadata": {},
   "source": [
    "First, let's read the genome fasta file using Biopython, and store the genome as a\n",
    "Python string. Similarly, let's read the transcriptome fasta file, and store the\n",
    "transcriptome as a list of strings. Be sure that you are working with native\n",
    "python strings and lists, not Biopython Seq objects. You are not allowed to use any BioPython function from now onwards."
   ]
  },
  {
   "cell_type": "code",
   "execution_count": null,
   "metadata": {},
   "outputs": [],
   "source": [
    "# code here"
   ]
  },
  {
   "cell_type": "markdown",
   "metadata": {},
   "source": [
    "# Conversion"
   ]
  },
  {
   "cell_type": "markdown",
   "metadata": {},
   "source": [
    "The genome on the RefSeq database is the cDNA version of the genome,\n",
    "but SARS-CoV-2 is an RNA virus! Convert the genome into an RNA\n",
    "string. Print the first 100 bp."
   ]
  },
  {
   "cell_type": "code",
   "execution_count": null,
   "metadata": {},
   "outputs": [],
   "source": [
    "# code here"
   ]
  },
  {
   "cell_type": "markdown",
   "metadata": {},
   "source": [
    "The SARS-CoV-2 genome is positive stranded. Convert the genome into\n",
    "a negative strand sequence by computing the reverse complement. Print\n",
    "the first 100 bp of the reverse complement sequence."
   ]
  },
  {
   "cell_type": "code",
   "execution_count": null,
   "metadata": {},
   "outputs": [],
   "source": [
    "# code here"
   ]
  },
  {
   "cell_type": "markdown",
   "metadata": {},
   "source": [
    "# $k$-mer analysis"
   ]
  },
  {
   "cell_type": "markdown",
   "metadata": {},
   "source": [
    "## Part 1\n",
    "\n",
    "What does a $k$-mer represent?"
   ]
  },
  {
   "cell_type": "markdown",
   "metadata": {},
   "source": [
    "### Answer"
   ]
  },
  {
   "cell_type": "markdown",
   "metadata": {},
   "source": [
    "[Answer here]"
   ]
  },
  {
   "cell_type": "markdown",
   "metadata": {},
   "source": [
    "## Part 2\n",
    "\n",
    "Build two dictionaries of $k$-mer frequencies, one for $k=3$ (use `threemers` as variable name) and one for $k=4$ (respectively, `fourmers`). In each dictionary, the keys should be every possible k-mer of the given length and the corresponding values should be the number of times that k-mer occurs in the SARS-CoV-2 genome. To find the $k$-mers, scan along the sequence with a window size of $k$ and a stride of 1.\n",
    "\n",
    "Note: Use the negative strand sequence to compute $k$-mer frequencies\n",
    "\n",
    "Example for k=3:  \n",
    "String: \"ACTGACT\"  \n",
    "```\n",
    "threemers = {\"ACT\": 2,   \n",
    "             \"CTG: 1,  \n",
    "             \"TGA\": 1,  \n",
    "             \"GAC\": 1,  \n",
    "             ...}\n",
    "```"
   ]
  },
  {
   "cell_type": "code",
   "execution_count": null,
   "metadata": {},
   "outputs": [],
   "source": [
    "# code here"
   ]
  },
  {
   "cell_type": "markdown",
   "metadata": {},
   "source": [
    "## Part 3\n",
    "\n",
    "Plot a bar graph of the frequency of each 4-mer. Include only the 50 most\n",
    "frequent 4-mers, and sort the bars in the plot by frequency (most frequent\n",
    "→ least frequent)."
   ]
  },
  {
   "cell_type": "code",
   "execution_count": null,
   "metadata": {},
   "outputs": [],
   "source": [
    "# code here and plot inline"
   ]
  },
  {
   "cell_type": "markdown",
   "metadata": {},
   "source": [
    "## Part 4\n",
    "\n",
    "Plot the frequency of all 64 3-mers, similarly sorted by\n",
    "frequency."
   ]
  },
  {
   "cell_type": "code",
   "execution_count": null,
   "metadata": {},
   "outputs": [],
   "source": [
    "# code here and plot inline"
   ]
  },
  {
   "cell_type": "markdown",
   "metadata": {},
   "source": [
    "# Translation"
   ]
  },
  {
   "cell_type": "markdown",
   "metadata": {},
   "source": [
    "We have a transcriptome which contains the mRNA sequences expressed\n",
    "by the virus, but we want to know the final protein sequences. Build a\n",
    "new list of the proteins by converting each mRNA sequence to an amino\n",
    "acid sequence (use the [standard translation code](https://www.ncbi.nlm.nih.gov/Taxonomy/taxonomyhome.html/index.cgi?chapter=tgencodes#SG1)). Print the amino acid sequence for the S protein.\n",
    "\n",
    "Note: Translate through the entire sequence ignoring the stop codons. This is not biologically accurate but sufficient for the purposes of this lab."
   ]
  },
  {
   "cell_type": "code",
   "execution_count": null,
   "metadata": {},
   "outputs": [],
   "source": [
    "# code here"
   ]
  },
  {
   "cell_type": "markdown",
   "metadata": {},
   "source": [
    "Make a bar chart of amino acid composition per transcript. You should\n",
    "have a bar for each transcript (the x-axis), and you should have 20 stacked\n",
    "bars, one for each amino acid.\n",
    "\n",
    "To make this bar chart, we can leverage the Pandas package to create a `DataFrame` that makes the data amenable to a 1-line command for plotting.\n",
    "\n",
    "This `DataFrame` should have the following structure:"
   ]
  },
  {
   "cell_type": "code",
   "execution_count": null,
   "metadata": {},
   "outputs": [],
   "source": [
    "# example DataFrame, your DataFrame should have the same exact columns\n",
    "import pandas as pd\n",
    "\n",
    "df = pd.DataFrame(columns=[\"Gene\", \"Position\", \"AA\"])\n",
    "df[\"Position\"] = [1, 2, 3] * 3\n",
    "df[\"Gene\"] = [\"Gene 1\"] * 3 + [\"Gene 2\"] * 3 + [\"Gene 3\"] * 3\n",
    "# random and just for example\n",
    "df[\"AA\"] = [\"D\", \"T\", \"P\"] + [\"A\", \"B\", \"A\"] + [\"D\", \"A\", \"T\"]\n",
    "\n",
    "df"
   ]
  },
  {
   "cell_type": "markdown",
   "metadata": {},
   "source": [
    "This is called a **long-form** dataframe! Each gene is repeated many times in the gene column"
   ]
  },
  {
   "cell_type": "code",
   "execution_count": null,
   "metadata": {},
   "outputs": [],
   "source": [
    "# code here and plot inline"
   ]
  }
 ],
 "metadata": {
  "kernelspec": {
   "display_name": "Python 3 (ipykernel)",
   "language": "python",
   "name": "python3"
  },
  "language_info": {
   "codemirror_mode": {
    "name": "ipython",
    "version": 3
   },
   "file_extension": ".py",
   "mimetype": "text/x-python",
   "name": "python",
   "nbconvert_exporter": "python",
   "pygments_lexer": "ipython3",
   "version": "3.9.6"
  }
 },
 "nbformat": 4,
 "nbformat_minor": 4
}
